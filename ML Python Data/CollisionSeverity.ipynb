{
  "cells": [
    {
      "cell_type": "code",
      "execution_count": null,
      "metadata": {
        "colab": {
          "base_uri": "https://localhost:8080/"
        },
        "id": "5Mk6NDeqO5nZ",
        "outputId": "c190960b-d40a-4ede-c70f-94779c75d075"
      },
      "outputs": [],
      "source": [
        "import json\n",
        "# make sure to install these packages before running:\n",
        "# !pip install pandas\n",
        "# !pip install sodapy\n",
        "\n",
        "import pandas as pd\n",
        "from sodapy import Socrata\n",
        "\n",
        "# Example authenticated client (needed for non-public datasets):\n",
        "client = Socrata(\"opendata.utah.gov\",\n",
        "                 \"b8AQz7fuwpqdLHiNzouIy8BOl\",\n",
        "                 username=\"alicialane01@gmail.com\",\n",
        "                 password=\"d00A@EJ3Ab^ac#J\")\n",
        "\n",
        "# First 2000 results, returned as JSON from API / converted to Python list of\n",
        "# dictionaries by sodapy.\n",
        "results = client.get(\"herb-zqda\", limit=300000)\n",
        "\n",
        "# Convert to pandas DataFrame\n",
        "results_df = pd.DataFrame.from_dict(results)"
      ]
    },
    {
      "cell_type": "code",
      "execution_count": null,
      "metadata": {
        "colab": {
          "base_uri": "https://localhost:8080/"
        },
        "id": "g2gH5KQFUuXM",
        "outputId": "5c291955-8724-46f9-9447-ce7a4bdd4de0"
      },
      "outputs": [],
      "source": [
        "#Use this to reset df values/columns without having to rerun previous block of code\n",
        "collision_df = results_df.copy() \n",
        "collision_df.shape"
      ]
    },
    {
      "cell_type": "code",
      "execution_count": null,
      "metadata": {
        "colab": {
          "base_uri": "https://localhost:8080/"
        },
        "id": "04u1NdhLDNLG",
        "outputId": "d6ec8cd0-5a39-470a-afe7-37136d16626c"
      },
      "outputs": [],
      "source": [
        "#convert columns to correct data type as described in the data dictionary\n",
        "import numpy as np\n",
        "\n",
        "collision_df = collision_df.astype({\n",
        "    'crash_datetime': np.datetime64,\n",
        "    # 'route': np.string_,\n",
        "    'milepoint': np.number,\n",
        "    'lat_utm_y': np.number,\n",
        "    'long_utm_x': np.number,\n",
        "    # 'main_road_name': np.string_,\n",
        "    # 'city': np.string_,\n",
        "    # 'county_name': np.string_,\n",
        "    'crash_severity_id': np.number,\n",
        "    'work_zone_related': np.bool_,\n",
        "    'pedestrian_involved': np.bool_,\n",
        "    'bicyclist_involved': np.bool_,\n",
        "    'motorcycle_involved': np.bool_,\n",
        "    'improper_restraint': np.bool_,\n",
        "    'unrestrained': np.bool_,\n",
        "    'dui': np.bool_,\n",
        "    'intersection_related': np.bool_,\n",
        "    'wild_animal_related': np.bool_,\n",
        "    'domestic_animal_related': np.bool_,\n",
        "    'overturn_rollover': np.bool_,\n",
        "    'commercial_motor_veh_involved': np.bool_,\n",
        "    'teenage_driver_involved': np.bool_,\n",
        "    'older_driver_involved': np.bool_,\n",
        "    'night_dark_condition': np.bool_,\n",
        "    'single_vehicle': np.bool_,\n",
        "    'distracted_driving': np.bool_,\n",
        "    'drowsy_driving': np.bool_,\n",
        "    'roadway_departure': np.bool_ \n",
        "})\n",
        "collision_df.dtypes"
      ]
    },
    {
      "cell_type": "code",
      "execution_count": null,
      "metadata": {
        "colab": {
          "base_uri": "https://localhost:8080/"
        },
        "id": "WhPonspUYCxq",
        "outputId": "7f027d8a-01b8-4d9b-c069-3eff2322c8d9"
      },
      "outputs": [],
      "source": [
        "collision_df.isna().sum()"
      ]
    },
    {
      "cell_type": "code",
      "execution_count": null,
      "metadata": {
        "colab": {
          "base_uri": "https://localhost:8080/"
        },
        "id": "1ApQIRpF94w3",
        "outputId": "29a5b371-2bdc-4a12-d1e7-bfb40dbe536f"
      },
      "outputs": [],
      "source": [
        "#handle missing data (there are no columns with 50% or more missing data so we kept all columns)\n",
        "def handle_missing(df, percent = 0.5):\n",
        "  for col in df:\n",
        "    if df[col].isna().sum()/len(df) > percent:\n",
        "      df.drop(columns = [col], inplace = True)\n",
        "\n",
        "      print('Dropped ', col)\n",
        "\n",
        "  return df\n",
        "\n",
        "handle_missing(collision_df, 0.5)\n",
        "collision_df.shape[1]\n",
        "    "
      ]
    },
    {
      "cell_type": "code",
      "execution_count": null,
      "metadata": {
        "id": "hvvPTmsYdjh-"
      },
      "outputs": [],
      "source": [
        "#Use to bin variables (maybe exclude columns like Street Name that don't have clear categorical values)\n",
        "\n",
        "# def bin_variables(df, percent = 0.05):\n",
        "#   for col in df:\n",
        "#     if not pd.api.types.is_numeric_dtype(df[col]):\n",
        "#       for value, count in df[col].value_counts().iteritems():\n",
        "#         if count/ len(df) < percent:\n",
        "#           df.loc[df[col] == value, col] = 'Other'\n",
        "\n",
        "#   return df\n",
        "\n",
        "# bin_variables(df)\n",
        "# df['MSZoning'].value_counts()"
      ]
    },
    {
      "cell_type": "code",
      "execution_count": null,
      "metadata": {
        "id": "aVKqsNcjQnJH"
      },
      "outputs": [],
      "source": [
        "# add columns for day of year, day of week, month, time of date, year, \n",
        "collision_df['crash_date'] = pd.to_datetime(collision_df['crash_datetime']).dt.date\n",
        "collision_df['crash_time'] = pd.to_datetime(collision_df['crash_datetime']).dt.time"
      ]
    },
    {
      "cell_type": "code",
      "execution_count": null,
      "metadata": {},
      "outputs": [],
      "source": [
        "df = collision_df[collision_df['city'] == False]\n",
        "df"
      ]
    }
  ],
  "metadata": {
    "colab": {
      "collapsed_sections": [],
      "name": "CollisionSeverity.ipynb",
      "provenance": []
    },
    "kernelspec": {
      "display_name": "Python 3",
      "name": "python3"
    },
    "language_info": {
      "codemirror_mode": {
        "name": "ipython",
        "version": 3
      },
      "file_extension": ".py",
      "mimetype": "text/x-python",
      "name": "python",
      "nbconvert_exporter": "python",
      "pygments_lexer": "ipython3",
      "version": "3.10.0"
    }
  },
  "nbformat": 4,
  "nbformat_minor": 0
}
