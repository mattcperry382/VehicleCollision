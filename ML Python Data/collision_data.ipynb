{
 "cells": [
  {
   "cell_type": "code",
   "execution_count": 9,
   "metadata": {},
   "outputs": [],
   "source": [
    "# make sure to install these packages before running:\n",
    "# pip install pandas\n",
    "# pip install sodapy\n",
    "\n",
    "import pandas as pd\n",
    "import pandas as pd\n",
    "from sodapy import Socrata\n",
    "\n",
    "url = 'opendata.utah.gov'\n",
    "\n",
    "def getDataFrame(url) :\n",
    "    # Unauthenticated client only works with public data sets. Note 'None'\n",
    "    # in place of application token, and no username or password:\n",
    "    client = Socrata(url, None)\n",
    "\n",
    "    # Example authenticated client (needed for non-public datasets):\n",
    "    # client = Socrata(opendata.utah.gov,\n",
    "    #                  MyAppToken,\n",
    "    #                  userame=\"user@example.com\",\n",
    "    #                  password=\"AFakePassword\")\n",
    "\n",
    "    # First 2000 results, returned as JSON from API / converted to Python list of\n",
    "    # dictionaries by sodapy.\n",
    "    results = client.get(\"herb-zqda\", limit=254000)\n",
    "\n",
    "    # Convert to pandas DataFrame\n",
    "    results_df = pd.DataFrame.from_records(results)\n",
    "    results_df"
   ]
  },
  {
   "cell_type": "code",
   "execution_count": 10,
   "metadata": {},
   "outputs": [
    {
     "name": "stderr",
     "output_type": "stream",
     "text": [
      "WARNING:root:Requests made without an app_token will be subject to strict throttling limits.\n"
     ]
    }
   ],
   "source": [
    "df = getDataFrame(url)\n",
    "df"
   ]
  }
 ],
 "metadata": {
  "interpreter": {
   "hash": "2be5faf79681da6f2a61fdfdd5405d65d042280f7fba6178067603e3a2925119"
  },
  "kernelspec": {
   "display_name": "Python 3.10.0 64-bit",
   "language": "python",
   "name": "python3"
  },
  "language_info": {
   "codemirror_mode": {
    "name": "ipython",
    "version": 3
   },
   "file_extension": ".py",
   "mimetype": "text/x-python",
   "name": "python",
   "nbconvert_exporter": "python",
   "pygments_lexer": "ipython3",
   "version": "3.10.0"
  },
  "orig_nbformat": 4
 },
 "nbformat": 4,
 "nbformat_minor": 2
}
