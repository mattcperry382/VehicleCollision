{
 "cells": [
  {
   "cell_type": "code",
   "execution_count": 19,
   "metadata": {},
   "outputs": [],
   "source": [
    "# make sure to install these packages before running:\n",
    "# pip install pandas\n",
    "# pip install sodapy\n",
    "\n",
    "import pandas as pd\n",
    "import requests\n",
    "import json\n",
    "from sodapy import Socrata\n",
    "\n",
    "url = 'opendata.utah.gov'\n",
    "json_file = 'collision_data.json'\n",
    "\n",
    "def apiCallClient(url) :\n",
    "    # Unauthenticated client only works with public data sets. Note 'None'\n",
    "    # in place of application token, and no username or password:\n",
    "    client = Socrata(url, None)\n",
    "\n",
    "    # Example authenticated client (needed for non-public datasets):\n",
    "    # client = Socrata(opendata.utah.gov,\n",
    "    #                  MyAppToken,\n",
    "    #                  userame=\"user@example.com\",\n",
    "    #                  password=\"AFakePassword\")\n",
    "\n",
    "    # First 2000 results, returned as JSON from API / converted to Python list of\n",
    "    # dictionaries by sodapy.\n",
    "    results = client.get(\"herb-zqda\", limit=254000)\n",
    "\n",
    "    # Convert to pandas DataFrame\n",
    "    results_df = pd.DataFrame.from_records(results)\n",
    "    results_df\n",
    "\n",
    "def apiCallRequests(url) :\n",
    "    payload = {}\n",
    "    headers= {}\n",
    "    response = requests.request(\"GET\", url, headers=headers, data = payload)\n",
    "    encoded = response.text.encode('utf8')\n",
    "    json_response = json.loads(encoded)\n",
    "    df = pd.DataFrame(json_response['results'])\n",
    "    return df\n",
    "\n",
    "def decodeJson(json_file) :\n",
    "    import json\n",
    "\n",
    "    json_data = open(json_file)\n",
    "\n",
    "    data = json.load(json_data)\n",
    "    df = pd.DataFrame.from_dict(data)\n",
    "    # df.astype({'work_zone_related': 'bool'}, copy=True)\n",
    "    json_data.close()\n",
    "\n",
    "    return df"
   ]
  },
  {
   "cell_type": "code",
   "execution_count": 20,
   "metadata": {},
   "outputs": [
    {
     "data": {
      "text/plain": [
       "dtype('O')"
      ]
     },
     "execution_count": 20,
     "metadata": {},
     "output_type": "execute_result"
    }
   ],
   "source": [
    "# df = apiCallClient(url)\n",
    "df = decodeJson(json_file)\n",
    "df\n",
    "# df.dtypes"
   ]
  }
 ],
 "metadata": {
  "interpreter": {
   "hash": "2be5faf79681da6f2a61fdfdd5405d65d042280f7fba6178067603e3a2925119"
  },
  "kernelspec": {
   "display_name": "Python 3.10.0 64-bit",
   "language": "python",
   "name": "python3"
  },
  "language_info": {
   "codemirror_mode": {
    "name": "ipython",
    "version": 3
   },
   "file_extension": ".py",
   "mimetype": "text/x-python",
   "name": "python",
   "nbconvert_exporter": "python",
   "pygments_lexer": "ipython3",
   "version": "3.10.0"
  },
  "orig_nbformat": 4
 },
 "nbformat": 4,
 "nbformat_minor": 2
}
