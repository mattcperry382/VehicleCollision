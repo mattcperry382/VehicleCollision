{
 "cells": [
  {
   "cell_type": "code",
   "execution_count": null,
   "metadata": {},
   "outputs": [],
   "source": [
    "# make sure to install these packages before running:\n",
    "# pip install pandas\n",
    "# pip install sodapy\n",
    "\n",
    "import pandas as pd\n",
    "import requests\n",
    "import json\n",
    "from sodapy import Socrata\n",
    "\n",
    "base_url = 'opendata.utah.gov'\n",
    "url = 'https://opendata.utah.gov/resource/herb-zqda.json'\n",
    "json_file = 'collision_data.json'\n",
    "\n",
    "def apiCallClient(url) :\n",
    "    # Example authenticated client (needed for non-public datasets):\n",
    "    client = Socrata(url,\n",
    "                    \"b8AQz7fuwpqdLHiNzouIy8BOl\",\n",
    "                    username=\"alicialane01@gmail.com\",\n",
    "                    password=\"d00A@EJ3Ab^ac#J\")\n",
    "\n",
    "    # First 2000 results, returned as JSON from API / converted to Python list of\n",
    "    # dictionaries by sodapy.\n",
    "    results = client.get(\"herb-zqda\", exclude_system_fields=False, limit=300000)\n",
    "\n",
    "    # Convert to pandas DataFrame\n",
    "    results_df = pd.DataFrame.from_records(results, coerce_float=True)\n",
    "    return results_df\n",
    "\n",
    "def apiCallRequests(url) :\n",
    "    payload = {}\n",
    "    headers= {}\n",
    "    response = requests.request(\"GET\", url, headers=headers, data = payload)\n",
    "    encoded = response.text.encode('utf8')\n",
    "    json_response = json.loads(encoded)\n",
    "    df = pd.DataFrame(json_response)\n",
    "    return df\n",
    "\n",
    "def apiCallCsv(url) :\n",
    "    # Example authenticated client (needed for non-public datasets):\n",
    "    client = Socrata(url,\n",
    "                    \"b8AQz7fuwpqdLHiNzouIy8BOl\",\n",
    "                    username=\"alicialane01@gmail.com\",\n",
    "                    password=\"d00A@EJ3Ab^ac#J\")\n",
    "\n",
    "    # First 2000 results, returned as JSON from API / converted to Python list of\n",
    "    # dictionaries by sodapy.\n",
    "    results = client.get(\"herb-zqda\", content_type='csv', limit=254000)\n",
    "\n",
    "    # Convert to pandas DataFrame\n",
    "    results_df = pd.DataFrame.from_records(results)\n",
    "    return results_df\n",
    "\n",
    "def decodeJson(json_file, json_text = None) :\n",
    "    import json\n",
    "\n",
    "    if (json_text) :\n",
    "        with open(json_file, \"a+\") as f:\n",
    "            f.write(json_text)\n",
    "            f.seek(0)\n",
    "            f.truncate()\n",
    "            data = f.read()\n",
    "\n",
    "    data = json.load(json_file)\n",
    "    df = pd.DataFrame.from_dict(data)\n",
    "\n",
    "    return df\n",
    "\n",
    "\n",
    "\n",
    "def grabJson(df) :\n",
    "    file = 'collision_data2.json'\n",
    "    json_data = df.to_json()\n",
    "    \n",
    "    return decodeJson(file, json_data)"
   ]
  },
  {
   "cell_type": "code",
   "execution_count": null,
   "metadata": {},
   "outputs": [],
   "source": [
    "df = apiCallClient(base_url)\n",
    "# df = grabJson(df)\n",
    "# df = apiCallCsv(base_url)\n",
    "# df = apiCallRequests(url)\n",
    "# df = decodeJson(json_file)\n",
    "# df = pd.read_csv('https://opendata.utah.gov/resource/herb-zqda.csv')"
   ]
  },
  {
   "cell_type": "code",
   "execution_count": null,
   "metadata": {},
   "outputs": [],
   "source": [
    "df.dtypes"
   ]
  },
  {
   "cell_type": "code",
   "execution_count": null,
   "metadata": {},
   "outputs": [],
   "source": [
    "#Use this to reset df values/columns\n",
    "collision_df = df.copy()\n",
    "collision_df.dtypes"
   ]
  },
  {
   "cell_type": "code",
   "execution_count": null,
   "metadata": {},
   "outputs": [],
   "source": [
    "# add columns for day of year, day of week, month, time of date, year, \n",
    "collision_df['crash_date'] = pd.to_datetime(collision_df['crash_datetime']).dt.date\n",
    "collision_df['crash_time'] = pd.to_datetime(collision_df['crash_datetime']).dt.time"
   ]
  },
  {
   "cell_type": "code",
   "execution_count": null,
   "metadata": {},
   "outputs": [],
   "source": [
    "collision_df['county_name'].unique"
   ]
  },
  {
   "cell_type": "code",
   "execution_count": null,
   "metadata": {},
   "outputs": [],
   "source": [
    "collision_df.dtypes"
   ]
  }
 ],
 "metadata": {
  "interpreter": {
   "hash": "2be5faf79681da6f2a61fdfdd5405d65d042280f7fba6178067603e3a2925119"
  },
  "kernelspec": {
   "display_name": "Python 3.10.0 64-bit",
   "language": "python",
   "name": "python3"
  },
  "language_info": {
   "codemirror_mode": {
    "name": "ipython",
    "version": 3
   },
   "file_extension": ".py",
   "mimetype": "text/x-python",
   "name": "python",
   "nbconvert_exporter": "python",
   "pygments_lexer": "ipython3",
   "version": "3.10.0"
  },
  "orig_nbformat": 4
 },
 "nbformat": 4,
 "nbformat_minor": 2
}
